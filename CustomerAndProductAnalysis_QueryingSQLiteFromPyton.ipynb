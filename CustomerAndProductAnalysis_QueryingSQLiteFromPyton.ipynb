{
 "cells": [
  {
   "cell_type": "markdown",
   "id": "bb471e0f-7c82-4a41-b27c-644f1a91c2bd",
   "metadata": {},
   "source": [
    "# Customers and Products Analysis - Part 2: Querying SQLite from Python \n",
    "\n",
    "In part 1 of the project, I conducted queries of a sales records database for scale model cars using Using DB Browser (SQLite). Here as Part 2 of the project, I run SQLite queries from Python using sqlite3 and explored the results.\n",
    "\n",
    "## Summary of results\n",
    "\n",
    " A list of priority products for restocking is given based on their potential revenue contribution and low-stock index. Lists of VIP customers and the least-enaged customers are obtained and we should consider group-targeted marketing and communication strategies. The new customer acquisition rate has dropped below 50% since 2004 and the average Life Time Value (LTV) is $\\text{\\$39039.59}$. We can spend up to $\\text{\\$13013.20}$ on acquiring each new customer to maintain a healty LTV-to-CAC ratio of 3:1. "
   ]
  },
  {
   "cell_type": "markdown",
   "id": "711578df-4a88-4723-af86-4ec4dcd190db",
   "metadata": {},
   "source": [
    "## Run queries with sqlite3 module"
   ]
  },
  {
   "cell_type": "code",
   "execution_count": 1,
   "id": "cebaabf9-1dc5-4383-a7e7-76d9c2c23c39",
   "metadata": {},
   "outputs": [],
   "source": [
    "import sqlite3"
   ]
  },
  {
   "cell_type": "code",
   "execution_count": 2,
   "id": "e68d330a-9406-47cd-a200-5ae0289e96d7",
   "metadata": {},
   "outputs": [
    {
     "name": "stdout",
     "output_type": "stream",
     "text": [
      "Running query: /*\n",
      "Database contains eight tables:\n",
      "\n",
      "Customers: customer data\n",
      "Employees: all employee information\n",
      "Offices: sales office information\n",
      "Orders: customers' sales orders\n",
      "OrderDetails: sales order line for each sales order\n",
      "Payments: customers' payment records\n",
      "Products: a list of scale model cars\n",
      "ProductLines: a list of product line categories \n",
      "\n",
      "*/\n",
      "-- Table descriptions\n",
      "SELECT 'Customers' AS table_name, \n",
      "        (SELECT COUNT(*) FROM pragma_table_info('customers')) AS number_of_attributes,\n",
      "        COUNT(*) AS number_of_row\n",
      "  FROM customers\n",
      " \n",
      "UNION ALL\n",
      "\n",
      "SELECT 'Products' AS table_name, \n",
      "        (SELECT COUNT(*) FROM pragma_table_info('products')) AS number_of_attributes,\n",
      "        COUNT(*) AS number_of_row\n",
      "  FROM products\n",
      "  \n",
      "UNION ALL\n",
      "\n",
      "SELECT 'Productlines' AS table_name, \n",
      "        (SELECT COUNT(*) FROM pragma_table_info('productlines')) AS number_of_attributes,\n",
      "        COUNT(*) AS number_of_row\n",
      "  FROM productlines\n",
      "  \n",
      "UNION ALL\n",
      "\n",
      "SELECT 'Orders' AS table_name, \n",
      "        (SELECT COUNT(*) FROM pragma_table_info('orders')) AS number_of_attributes,\n",
      "        COUNT(*) AS number_of_row\n",
      "  FROM orders\n",
      "\n",
      "UNION ALL\n",
      "\n",
      "SELECT 'OrderDetails' AS table_name, \n",
      "        (SELECT COUNT(*) FROM pragma_table_info('orderdetails')) AS number_of_attributes,\n",
      "        COUNT(*) AS number_of_row\n",
      "  FROM orderdetails\n",
      "  \n",
      "\n",
      "\n",
      "UNION ALL\n",
      "\n",
      "SELECT 'Payments' AS table_name, \n",
      "        (SELECT COUNT(*) FROM pragma_table_info('payments')) AS number_of_attributes,\n",
      "        COUNT(*) AS number_of_row\n",
      "  FROM payments\n",
      "\n",
      "UNION ALL\n",
      "\n",
      "SELECT 'Employees' AS table_name, \n",
      "        (SELECT COUNT(*) FROM pragma_table_info('employees')) AS number_of_attributes,\n",
      "        COUNT(*) AS number_of_row\n",
      "  FROM employees\n",
      "\n",
      "UNION ALL\n",
      "\n",
      "SELECT 'Offices' AS table_name, \n",
      "        (SELECT COUNT(*) FROM pragma_table_info('offices')) AS number_of_attributes,\n",
      "        COUNT(*) AS number_of_row\n",
      "  FROM offices\n",
      "Running query: -- low stock prodcts\n",
      "SELECT p.productCode,p.productName,p.productLine, round(CAST(SUM(od.quantityOrdered) AS REAL)/p.quantityInStock,2)AS low_stock\n",
      "  FROM products p\n",
      "  JOIN orderdetails od\n",
      "    ON p.productCode=od.productCode\n",
      " WHERE p.quantityInStock > 0\n",
      " GROUP BY p.productCode \n",
      " ORDER BY low_stock DESC\n",
      " LIMIT 20\n",
      "Running query: -- Product performance\n",
      "SELECT p.productCode,p.productName,SUM(od.quantityOrdered*od.priceEach)AS product_performance\n",
      "  FROM products p \n",
      "  JOIN orderdetails od\n",
      "    ON p.productCode=od.productCode\n",
      " GROUP BY p.productCode \n",
      " ORDER BY product_performance DESC\n",
      " LIMIT 10\n",
      "Running query: --using a Common Table Expression (CTE) to display priority products for restocking\n",
      "WITH low_stock_products AS (\n",
      "SELECT p.productCode,p.productName,p.productLine, round(CAST(SUM(od.quantityOrdered) AS REAL)/p.quantityInStock,2)AS low_stock\n",
      "  FROM products p\n",
      "  JOIN orderdetails od\n",
      "    ON p.productCode=od.productCode\n",
      " WHERE p.quantityInStock > 0\n",
      " GROUP BY p.productCode \n",
      " ORDER BY low_stock DESC\n",
      " ),\n",
      " product_performance AS (\n",
      " SELECT productCode,SUM(quantityOrdered*priceEach)AS product_performance\n",
      "  FROM orderdetails\n",
      " GROUP BY productCode \n",
      " ORDER BY product_performance DESC\n",
      " )\n",
      " SELECT ls.productCode,ls.productName,ls.productLine, ls.low_stock, pp. product_performance\n",
      "   FROM low_stock_products ls\n",
      "   JOIN product_performance pp\n",
      "     ON ls.productCode=pp.productCode\n",
      "  WHERE ls.low_stock>=1\n",
      "  ORDER BY pp.product_performance DESC\n",
      "Running query: --Top 5 VIP customers\n",
      "WITH profit_per_customer AS (\n",
      "SELECT o.customerNumber, sum(od.quantityOrdered*(od.priceEach-p.buyPrice))AS profit_per_customer\n",
      "  FROM orders o\n",
      "  JOIN orderdetails od\n",
      "    ON o.orderNumber=od.orderNumber\n",
      "  JOIN products p\n",
      "    ON od.productCode=p.productCode\n",
      " GROUP BY o.customerNumber\n",
      " ORDER BY profit_per_customer DESC\n",
      ")\n",
      "\n",
      "SELECT c.contactLastName, c.contactFirstName, c.city, c.country,ppc.profit_per_customer\n",
      "  FROM customers c\n",
      "  JOIN profit_per_customer ppc\n",
      "    ON c.customerNumber=ppc.customerNumber\n",
      " ORDER BY ppc.profit_per_customer DESC\n",
      " LIMIT 5\n",
      "Running query: --5 least-engaged customers\n",
      "WITH profit_per_customer AS (\n",
      "SELECT o.customerNumber, sum(od.quantityOrdered*(od.priceEach-p.buyPrice))AS profit_per_customer\n",
      "  FROM orders o\n",
      "  JOIN orderdetails od\n",
      "    ON o.orderNumber=od.orderNumber\n",
      "  JOIN products p\n",
      "    ON od.productCode=p.productCode\n",
      " GROUP BY o.customerNumber\n",
      " ORDER BY profit_per_customer DESC\n",
      ")\n",
      "\n",
      "SELECT c.contactLastName, c.contactFirstName, c.city, c.country,ppc.profit_per_customer\n",
      "  FROM customers c\n",
      "  JOIN profit_per_customer ppc\n",
      "    ON c.customerNumber=ppc.customerNumber\n",
      " ORDER BY ppc.profit_per_customer \n",
      " LIMIT 5\n",
      "Running query: -- Average customer profit\n",
      "WITH profit_per_customer AS (\n",
      "SELECT o.customerNumber, sum(od.quantityOrdered*(od.priceEach-p.buyPrice))AS profit_per_customer\n",
      "  FROM orders o\n",
      "  JOIN orderdetails od\n",
      "    ON o.orderNumber=od.orderNumber\n",
      "  JOIN products p\n",
      "    ON od.productCode=p.productCode\n",
      " GROUP BY o.customerNumber\n",
      " ORDER BY profit_per_customer DESC\n",
      ")\n",
      "\n",
      "SELECT round(avg(profit_per_customer),2)\n",
      "  FROM profit_per_customer\n",
      "Running query: --the number of new customers arriving each month \n",
      " \n",
      "WITH \n",
      "payment_with_year_month_table AS (\n",
      "SELECT *, \n",
      "       CAST(SUBSTR(paymentDate, 1,4) AS INTEGER)*100 + CAST(SUBSTR(paymentDate, 6,7) AS INTEGER) AS year_month\n",
      "  FROM payments p\n",
      "),\n",
      "\n",
      "customers_by_month_table AS (\n",
      "SELECT p1.year_month, COUNT(*) AS number_of_customers, SUM(p1.amount) AS total\n",
      "  FROM payment_with_year_month_table p1\n",
      " GROUP BY p1.year_month\n",
      "),\n",
      "\n",
      "new_customers_by_month_table AS (\n",
      "SELECT p1.year_month, \n",
      "       COUNT(DISTINCT customerNumber) AS number_of_new_customers,\n",
      "       SUM(p1.amount) AS new_customer_total,\n",
      "       (SELECT number_of_customers\n",
      "          FROM customers_by_month_table c\n",
      "        WHERE c.year_month = p1.year_month) AS number_of_customers,\n",
      "       (SELECT total\n",
      "          FROM customers_by_month_table c\n",
      "         WHERE c.year_month = p1.year_month) AS total\n",
      "  FROM payment_with_year_month_table p1\n",
      " WHERE p1.customerNumber NOT IN (SELECT customerNumber\n",
      "                                   FROM payment_with_year_month_table p2\n",
      "                                  WHERE p2.year_month < p1.year_month)\n",
      " GROUP BY p1.year_month\n",
      ")\n",
      "\n",
      "SELECT year_month, \n",
      "       ROUND(number_of_new_customers*100/number_of_customers,1) AS number_of_new_customers_props,\n",
      "       ROUND(new_customer_total*100/total,1) AS new_customers_total_props\n",
      "  FROM new_customers_by_month_table\n"
     ]
    }
   ],
   "source": [
    "# Connect to SQLite database \n",
    "conn = sqlite3.connect('stores.db')\n",
    "cursor = conn.cursor()\n",
    "\n",
    "# Open and read the .sql file containing the queries\n",
    "with open('Customers_and_Products.sql', 'r') as file:\n",
    "    sql_queries = file.read()\n",
    "\n",
    "# Split the queries by semicolons to handle them individually\n",
    "queries = sql_queries.split(';')\n",
    "\n",
    "# Run each query and save results sequentially\n",
    "results = []\n",
    "for query in queries:\n",
    "    query = query.strip()  # Strip leading/trailing whitespace\n",
    "    if query:  # Only run non-empty queries\n",
    "        print(f\"Running query: {query}\")\n",
    "        cursor.execute(query)\n",
    "        result = cursor.fetchall()  # Fetch the result of the query\n",
    "        results.append(result)\n",
    "\n",
    "conn.close()\n",
    "\n",
    "# At this point, `results` contains the output of each query.\n"
   ]
  },
  {
   "cell_type": "markdown",
   "id": "d5892e01-9dff-457c-9f4b-fd02cbec07b5",
   "metadata": {},
   "source": [
    "## Display and explore the results from queries"
   ]
  },
  {
   "cell_type": "code",
   "execution_count": 3,
   "id": "b46352ca-65b1-406d-89d1-dc4b667384c8",
   "metadata": {},
   "outputs": [
    {
     "name": "stdout",
     "output_type": "stream",
     "text": [
      "<class 'list'>\n",
      "8\n"
     ]
    }
   ],
   "source": [
    "print(type(results))\n",
    "print(len(results))"
   ]
  },
  {
   "cell_type": "code",
   "execution_count": 4,
   "id": "49c3610c-e719-4839-9868-96c233192da4",
   "metadata": {},
   "outputs": [
    {
     "data": {
      "text/plain": [
       "[('Customers', 13, 122),\n",
       " ('Products', 9, 110),\n",
       " ('Productlines', 4, 7),\n",
       " ('Orders', 7, 326),\n",
       " ('OrderDetails', 5, 2996),\n",
       " ('Payments', 4, 273),\n",
       " ('Employees', 8, 23),\n",
       " ('Offices', 9, 7)]"
      ]
     },
     "execution_count": 4,
     "metadata": {},
     "output_type": "execute_result"
    }
   ],
   "source": [
    "# first query returns table descriptions of the databse\n",
    "table_descriptions=results[0]\n",
    "table_descriptions  # table_name, number of collumns, number of rows"
   ]
  },
  {
   "cell_type": "markdown",
   "id": "3c0a8fd9-a4f7-4832-8b20-cf6b73584571",
   "metadata": {},
   "source": [
    "### Priority products for restocking\n",
    "WITH low_stock_products AS (\n",
    "To answer the question that *Which Products Should We Order More of or Less of*, we need to find out which products have a low stock (i.e., high demand), which products have a high performance (i.e. high revenue). \n",
    "\n",
    "**low stock index=sum(QuantityOrdered)/quantityInStock** <br>\n",
    "**product performance index=sum(QuantityOrdered*priceEach)**\n",
    "\n",
    "If **low stock index >1**, it indicates that there are more orders than stock for the product, hence we should Replenish Stock As Soon As Possible.<br>"
   ]
  },
  {
   "cell_type": "code",
   "execution_count": 5,
   "id": "0f9a0277-89fe-4d12-8293-854b5ce0792b",
   "metadata": {},
   "outputs": [
    {
     "data": {
      "text/plain": [
       "[('S24_2000', '1960 BSA Gold Star DBD34', 'Motorcycles', 67.67),\n",
       " ('S12_1099', '1968 Ford Mustang', 'Classic Cars', 13.72),\n",
       " ('S32_4289', '1928 Ford Phaeton Deluxe', 'Vintage Cars', 7.15),\n",
       " ('S32_1374', '1997 BMW F650 ST', 'Motorcycles', 5.7),\n",
       " ('S72_3212', 'Pont Yacht', 'Ships', 2.31),\n",
       " ('S700_3167', 'F/A 18 Hornet 1/72', 'Planes', 1.9),\n",
       " ('S50_4713', '2002 Yamaha YZR M1', 'Motorcycles', 1.65),\n",
       " ('S18_2795', '1928 Mercedes-Benz SSK', 'Vintage Cars', 1.61),\n",
       " ('S18_2248', '1911 Ford Town Car', 'Vintage Cars', 1.54),\n",
       " ('S700_1938', 'The Mayflower', 'Ships', 1.22),\n",
       " ('S32_3522',\n",
       "  '1996 Peterbilt 379 Stake Bed with Outrigger',\n",
       "  'Trucks and Buses',\n",
       "  1.21),\n",
       " ('S50_1392', 'Diamond T620 Semi-Skirted Tanker', 'Trucks and Buses', 0.96),\n",
       " ('S18_2581', 'P-51-D Mustang', 'Planes', 0.92),\n",
       " ('S12_3891', '1969 Ford Falcon', 'Classic Cars', 0.92),\n",
       " ('S18_4721', '1957 Corvette Convertible', 'Classic Cars', 0.81),\n",
       " ('S24_1046', '1970 Chevy Chevelle SS 454', 'Classic Cars', 0.8),\n",
       " ('S12_1666', '1958 Setra Bus', 'Trucks and Buses', 0.62),\n",
       " ('S24_2887', '1952 Citroen-15CV', 'Classic Cars', 0.6),\n",
       " ('S50_1514', '1962 City of Detroit Streetcar', 'Trains', 0.59),\n",
       " ('S24_2011', '18th century schooner', 'Ships', 0.53)]"
      ]
     },
     "execution_count": 5,
     "metadata": {},
     "output_type": "execute_result"
    }
   ],
   "source": [
    "# the second query returns the low stock index for top 20 low stock products\n",
    "low_stock_prodcts=results[1]\n",
    "low_stock_prodcts # product code, product name, product line, low stock index"
   ]
  },
  {
   "cell_type": "markdown",
   "id": "8dece229-816d-4a69-b43c-aeb4e1b163e4",
   "metadata": {},
   "source": [
    "* The results shows there are 11 products with higher than 1 low stock index"
   ]
  },
  {
   "cell_type": "code",
   "execution_count": 6,
   "id": "9d1f3016-6b7e-491c-8750-40d7b4fbf54c",
   "metadata": {},
   "outputs": [
    {
     "data": {
      "text/plain": [
       "[('S18_3232', '1992 Ferrari 360 Spider red', 276839.98),\n",
       " ('S12_1108', '2001 Ferrari Enzo', 190755.86000000002),\n",
       " ('S10_1949', '1952 Alpine Renault 1300', 190017.96),\n",
       " ('S10_4698', '2003 Harley-Davidson Eagle Drag Bike', 170686.0),\n",
       " ('S12_1099', '1968 Ford Mustang', 161531.48),\n",
       " ('S12_3891', '1969 Ford Falcon', 152543.02),\n",
       " ('S18_1662', '1980s Black Hawk Helicopter', 144959.91),\n",
       " ('S18_2238', '1998 Chrysler Plymouth Prowler', 142530.63),\n",
       " ('S18_1749', '1917 Grand Touring Sedan', 140535.6),\n",
       " ('S12_2823', '2002 Suzuki XREO', 135767.03)]"
      ]
     },
     "execution_count": 6,
     "metadata": {},
     "output_type": "execute_result"
    }
   ],
   "source": [
    "# the third query return the product performance index\n",
    "top_10_Products=results[2]\n",
    "top_10_Products # product code, product name, product performance index"
   ]
  },
  {
   "cell_type": "code",
   "execution_count": 7,
   "id": "1f063f07-5c5b-4b8b-af5b-7953d4c16c92",
   "metadata": {},
   "outputs": [
    {
     "data": {
      "text/plain": [
       "[('S12_1099', '1968 Ford Mustang', 'Classic Cars', 13.72, 161531.48),\n",
       " ('S18_2795', '1928 Mercedes-Benz SSK', 'Vintage Cars', 1.61, 132275.98),\n",
       " ('S32_1374', '1997 BMW F650 ST', 'Motorcycles', 5.7, 89364.89),\n",
       " ('S700_3167', 'F/A 18 Hornet 1/72', 'Planes', 1.9, 76618.4),\n",
       " ('S50_4713', '2002 Yamaha YZR M1', 'Motorcycles', 1.65, 73670.64),\n",
       " ('S700_1938', 'The Mayflower', 'Ships', 1.22, 69531.61),\n",
       " ('S24_2000', '1960 BSA Gold Star DBD34', 'Motorcycles', 67.67, 67193.49),\n",
       " ('S32_4289', '1928 Ford Phaeton Deluxe', 'Vintage Cars', 7.15, 60493.33),\n",
       " ('S32_3522',\n",
       "  '1996 Peterbilt 379 Stake Bed with Outrigger',\n",
       "  'Trucks and Buses',\n",
       "  1.21,\n",
       "  57282.49),\n",
       " ('S72_3212', 'Pont Yacht', 'Ships', 2.31, 47550.4),\n",
       " ('S18_2248', '1911 Ford Town Car', 'Vintage Cars', 1.54, 45306.77)]"
      ]
     },
     "execution_count": 7,
     "metadata": {},
     "output_type": "execute_result"
    }
   ],
   "source": [
    "# The fourth query return the products with higher than 1 low stock index and ordered by product performance index\n",
    "priority_products_for_restocking=results[3]\n",
    "priority_products_for_restocking # productCode,productName, product line, low stock index, product performance index"
   ]
  },
  {
   "cell_type": "markdown",
   "id": "0589ee05-88b4-45e5-ba45-8186c0190374",
   "metadata": {},
   "source": [
    "* The results prioritize products for restocking based on their potential revenue contribution.\n",
    "* Among low stock products, '1968 Ford Mustang' has the highest projected revenue and a low stock index of 13.72, indicating strong demand relative to available stock.\n",
    "* '1960 BSA Gold Star DBD34' is the product with the highest low stock index (67.67). It means the quanity ordered is about 68 times of the quantity in stock, highlighting a significant stock gap. However, its potential revenue is comparatively modest(<1000,000)."
   ]
  },
  {
   "cell_type": "markdown",
   "id": "6eec996b-608a-4790-a08d-42be2cd6ef92",
   "metadata": {},
   "source": [
    "### Marketing and Communication Strategies for Customer Segments"
   ]
  },
  {
   "cell_type": "code",
   "execution_count": 9,
   "id": "138c9559-2b2e-4281-914d-f1bc97ebdf45",
   "metadata": {},
   "outputs": [
    {
     "data": {
      "text/plain": [
       "[('Freyre', 'Diego ', 'Madrid', 'Spain', 326519.66),\n",
       " ('Nelson', 'Susan', 'San Rafael', 'USA', 236769.39),\n",
       " ('Young', 'Jeff', 'NYC', 'USA', 72370.09),\n",
       " ('Ferguson', 'Peter', 'Melbourne', 'Australia', 70311.07),\n",
       " ('Labrune', 'Janine ', 'Nantes', 'France', 60875.3)]"
      ]
     },
     "execution_count": 9,
     "metadata": {},
     "output_type": "execute_result"
    }
   ],
   "source": [
    "# The fifth query returns the top 5 VIP customers from whom we have the most profit\n",
    "top_5_VIP_customers=results[4]\n",
    "top_5_VIP_customers  # LastName, FirstName, city, country, profit_per_customer"
   ]
  },
  {
   "cell_type": "code",
   "execution_count": 10,
   "id": "6415f5d4-b84b-4397-b817-63fcb35f2c14",
   "metadata": {},
   "outputs": [
    {
     "data": {
      "text/html": [
       "<div>\n",
       "<style scoped>\n",
       "    .dataframe tbody tr th:only-of-type {\n",
       "        vertical-align: middle;\n",
       "    }\n",
       "\n",
       "    .dataframe tbody tr th {\n",
       "        vertical-align: top;\n",
       "    }\n",
       "\n",
       "    .dataframe thead th {\n",
       "        text-align: right;\n",
       "    }\n",
       "</style>\n",
       "<table border=\"1\" class=\"dataframe\">\n",
       "  <thead>\n",
       "    <tr style=\"text-align: right;\">\n",
       "      <th></th>\n",
       "      <th>contactLastName</th>\n",
       "      <th>contactFirstName</th>\n",
       "      <th>city</th>\n",
       "      <th>country</th>\n",
       "      <th>profit_per_customer</th>\n",
       "    </tr>\n",
       "  </thead>\n",
       "  <tbody>\n",
       "    <tr>\n",
       "      <th>0</th>\n",
       "      <td>Freyre</td>\n",
       "      <td>Diego</td>\n",
       "      <td>Madrid</td>\n",
       "      <td>Spain</td>\n",
       "      <td>326519.66</td>\n",
       "    </tr>\n",
       "    <tr>\n",
       "      <th>1</th>\n",
       "      <td>Nelson</td>\n",
       "      <td>Susan</td>\n",
       "      <td>San Rafael</td>\n",
       "      <td>USA</td>\n",
       "      <td>236769.39</td>\n",
       "    </tr>\n",
       "    <tr>\n",
       "      <th>2</th>\n",
       "      <td>Young</td>\n",
       "      <td>Jeff</td>\n",
       "      <td>NYC</td>\n",
       "      <td>USA</td>\n",
       "      <td>72370.09</td>\n",
       "    </tr>\n",
       "    <tr>\n",
       "      <th>3</th>\n",
       "      <td>Ferguson</td>\n",
       "      <td>Peter</td>\n",
       "      <td>Melbourne</td>\n",
       "      <td>Australia</td>\n",
       "      <td>70311.07</td>\n",
       "    </tr>\n",
       "    <tr>\n",
       "      <th>4</th>\n",
       "      <td>Labrune</td>\n",
       "      <td>Janine</td>\n",
       "      <td>Nantes</td>\n",
       "      <td>France</td>\n",
       "      <td>60875.30</td>\n",
       "    </tr>\n",
       "  </tbody>\n",
       "</table>\n",
       "</div>"
      ],
      "text/plain": [
       "  contactLastName contactFirstName        city    country  profit_per_customer\n",
       "0          Freyre           Diego       Madrid      Spain            326519.66\n",
       "1          Nelson            Susan  San Rafael        USA            236769.39\n",
       "2           Young             Jeff         NYC        USA             72370.09\n",
       "3        Ferguson            Peter   Melbourne  Australia             70311.07\n",
       "4         Labrune          Janine       Nantes     France             60875.30"
      ]
     },
     "execution_count": 10,
     "metadata": {},
     "output_type": "execute_result"
    }
   ],
   "source": [
    "# Below show a method that uses pandas to interact with the database\n",
    "import pandas as pd\n",
    "conn = sqlite3.connect('stores.db')\n",
    "\n",
    "query='''\n",
    "WITH profit_per_customer AS (\n",
    "SELECT o.customerNumber, sum(od.quantityOrdered*(od.priceEach-p.buyPrice))AS profit_per_customer\n",
    "  FROM orders o\n",
    "  JOIN orderdetails od\n",
    "    ON o.orderNumber=od.orderNumber\n",
    "  JOIN products p\n",
    "    ON od.productCode=p.productCode\n",
    " GROUP BY o.customerNumber\n",
    " ORDER BY profit_per_customer DESC\n",
    ")\n",
    "\n",
    "SELECT c.contactLastName, c.contactFirstName, c.city, c.country,ppc.profit_per_customer\n",
    "  FROM customers c\n",
    "  JOIN profit_per_customer ppc\n",
    "    ON c.customerNumber=ppc.customerNumber\n",
    " ORDER BY ppc.profit_per_customer DESC\n",
    " LIMIT 5;\n",
    " '''\n",
    "top_5_VIP_customers = pd.read_sql_query(query,conn)\n",
    "conn.close()\n",
    "top_5_VIP_customers "
   ]
  },
  {
   "cell_type": "markdown",
   "id": "e9ab0f37-4eff-4a1a-9e18-b5195757782d",
   "metadata": {},
   "source": [
    "For the VIP customers, we can use effective strategies to engage and retain VIPs, considering:\n",
    "* Exclusive Rewards & Loyalty Programs: Use rewards like early product access, exclusive discounts, early access to sales, VIP-Only Events.\n",
    "* Personalized Communication: Use data (purchase history, preferences) to personalize Product recommendations, birthday or anniversary gifts, custom emails with the VIP’s name and curated offers.\n",
    "* Priority Service & Support: Provide Priority shipping or handling, 24/7 dedicated support line, hassle-free returns or adjustments\n",
    "* Feedback & Influence: Involve VIPs in product development feedback, beta testing new services, “Inner circle” panels for brand direction"
   ]
  },
  {
   "cell_type": "code",
   "execution_count": 20,
   "id": "de2df055-88c5-471c-8fb7-324a6707c2e7",
   "metadata": {},
   "outputs": [
    {
     "data": {
      "text/plain": [
       "[('Young', 'Mary', 'Glendale', 'USA', 2610.870000000001),\n",
       " ('Taylor', 'Leslie', 'Brickhaven', 'USA', 6586.0199999999995),\n",
       " ('Ricotti', 'Franco', 'Milan', 'Italy', 9532.93),\n",
       " ('Schmitt', 'Carine ', 'Nantes', 'France', 10063.800000000001),\n",
       " ('Smith', 'Thomas ', 'London', 'UK', 10868.04)]"
      ]
     },
     "execution_count": 20,
     "metadata": {},
     "output_type": "execute_result"
    }
   ],
   "source": [
    "# The sixtth query returns the 5 leasted enaged customers from whom we have the lowest profit\n",
    "least_5_engaged_customers=results[5]\n",
    "least_5_engaged_customers ## LastName, FirstName, city, country,profit_per_customer"
   ]
  },
  {
   "cell_type": "markdown",
   "id": "cc81c3cd-9ee8-4816-adb7-39853c9346c2",
   "metadata": {},
   "source": [
    "For least-engaged customers, our goal is to rekindle interest, rebuild relevance, and reactivate them before they churn completely. Here are key strategies:\n",
    "* Re-Engagement Campaigns: Send targeted email campaigns with special offers or discounts to encourage them to make another purchase.\n",
    "* Survey to Understand Disengagement: Ask why they stopped engaging (simple, 1-click surveys), Offer reward for feedback\n",
    "* A/B Test New Engagement Formats: Try different formats or platforms, for example, Email vs SMS, Short videos or interactive content, App push notifications if applicable\n",
    "*  Know When to Let Go: After multiple attempts with no engagement, suppress them from frequent campaigns. Move to a low-touch, occasional newsletter list."
   ]
  },
  {
   "cell_type": "markdown",
   "id": "a3712aa7-b234-4788-b1db-cd210e76c589",
   "metadata": {},
   "source": [
    "### How much can we spend on acquiring new customers\n",
    "1. Calculate the Customer Lifetime Value (LTV) -- the average of customer profits\n",
    "2. Check the number of new customers arriving each month"
   ]
  },
  {
   "cell_type": "code",
   "execution_count": 23,
   "id": "bcf513e4-07db-4ab6-865d-ebc101d49ce5",
   "metadata": {},
   "outputs": [
    {
     "data": {
      "text/plain": [
       "[(39039.59,)]"
      ]
     },
     "execution_count": 23,
     "metadata": {},
     "output_type": "execute_result"
    }
   ],
   "source": [
    "# Customer lifetime value\n",
    "average_customer_profit=results[6]\n",
    "average_customer_profit"
   ]
  },
  {
   "cell_type": "code",
   "execution_count": 13,
   "id": "69f57337-ecac-47b1-a56f-b50222a33f4a",
   "metadata": {},
   "outputs": [
    {
     "data": {
      "text/plain": [
       "[(200301, 100.0, 100.0),\n",
       " (200302, 100.0, 100.0),\n",
       " (200303, 100.0, 100.0),\n",
       " (200304, 100.0, 100.0),\n",
       " (200305, 83.0, 100.0),\n",
       " (200306, 100.0, 100.0),\n",
       " (200307, 75.0, 68.3),\n",
       " (200308, 66.0, 54.2),\n",
       " (200309, 80.0, 95.9),\n",
       " (200310, 69.0, 69.3),\n",
       " (200311, 52.0, 53.9),\n",
       " (200312, 60.0, 54.9),\n",
       " (200401, 33.0, 41.1),\n",
       " (200402, 33.0, 26.5),\n",
       " (200403, 54.0, 55.0),\n",
       " (200404, 40.0, 40.3),\n",
       " (200405, 12.0, 17.3),\n",
       " (200406, 33.0, 43.9),\n",
       " (200407, 10.0, 6.5),\n",
       " (200408, 18.0, 26.2),\n",
       " (200409, 33.0, 56.4)]"
      ]
     },
     "execution_count": 13,
     "metadata": {},
     "output_type": "execute_result"
    }
   ],
   "source": [
    "# The number of new customers arriving each month\n",
    "new_customer_per_month=results[7]\n",
    "new_customer_per_month # year_month, new_customers_percentage, new_customers_total_payment_percentage"
   ]
  },
  {
   "cell_type": "code",
   "execution_count": 17,
   "id": "d249ebe5-4ed5-42b5-a016-b51a548c1c95",
   "metadata": {},
   "outputs": [
    {
     "data": {
      "text/html": [
       "<div>\n",
       "<style scoped>\n",
       "    .dataframe tbody tr th:only-of-type {\n",
       "        vertical-align: middle;\n",
       "    }\n",
       "\n",
       "    .dataframe tbody tr th {\n",
       "        vertical-align: top;\n",
       "    }\n",
       "\n",
       "    .dataframe thead th {\n",
       "        text-align: right;\n",
       "    }\n",
       "</style>\n",
       "<table border=\"1\" class=\"dataframe\">\n",
       "  <thead>\n",
       "    <tr style=\"text-align: right;\">\n",
       "      <th></th>\n",
       "      <th>year_month</th>\n",
       "      <th>new_customers_percentage</th>\n",
       "      <th>new_customers_payment_percentage</th>\n",
       "    </tr>\n",
       "  </thead>\n",
       "  <tbody>\n",
       "    <tr>\n",
       "      <th>0</th>\n",
       "      <td>200301</td>\n",
       "      <td>100.0</td>\n",
       "      <td>100.0</td>\n",
       "    </tr>\n",
       "    <tr>\n",
       "      <th>1</th>\n",
       "      <td>200302</td>\n",
       "      <td>100.0</td>\n",
       "      <td>100.0</td>\n",
       "    </tr>\n",
       "    <tr>\n",
       "      <th>2</th>\n",
       "      <td>200303</td>\n",
       "      <td>100.0</td>\n",
       "      <td>100.0</td>\n",
       "    </tr>\n",
       "    <tr>\n",
       "      <th>3</th>\n",
       "      <td>200304</td>\n",
       "      <td>100.0</td>\n",
       "      <td>100.0</td>\n",
       "    </tr>\n",
       "    <tr>\n",
       "      <th>4</th>\n",
       "      <td>200305</td>\n",
       "      <td>83.0</td>\n",
       "      <td>100.0</td>\n",
       "    </tr>\n",
       "  </tbody>\n",
       "</table>\n",
       "</div>"
      ],
      "text/plain": [
       "   year_month  new_customers_percentage  new_customers_payment_percentage\n",
       "0      200301                     100.0                             100.0\n",
       "1      200302                     100.0                             100.0\n",
       "2      200303                     100.0                             100.0\n",
       "3      200304                     100.0                             100.0\n",
       "4      200305                      83.0                             100.0"
      ]
     },
     "execution_count": 17,
     "metadata": {},
     "output_type": "execute_result"
    }
   ],
   "source": [
    "import pandas as pd\n",
    "import matplotlib.pyplot as plt\n",
    "import seaborn as sns\n",
    "df=pd.DataFrame(new_customer_per_month)\n",
    "df.columns=['year_month','new_customers_percentage','new_customers_payment_percentage']\n",
    "df.head()"
   ]
  },
  {
   "cell_type": "code",
   "execution_count": 22,
   "id": "98dd7d64-9fd8-48fd-baf9-c99ce5d7aafb",
   "metadata": {},
   "outputs": [
    {
     "data": {
      "image/png": "[encoded data removed]",
      "text/plain": [
       "<Figure size 500x300 with 1 Axes>"
      ]
     },
     "metadata": {},
     "output_type": "display_data"
    }
   ],
   "source": [
    "plt.figure(figsize=(5,3))\n",
    "sns.barplot(data=df,\n",
    "            x='year_month',\n",
    "            y='new_customers_percentage',\n",
    "            )\n",
    "plt.xticks(rotation=80)\n",
    "plt.title('New customers percentage compared to previous customers month by month');"
   ]
  },
  {
   "cell_type": "markdown",
   "id": "c3b73ac0-1799-465b-a59c-71f40bed9e28",
   "metadata": {},
   "source": [
    "* The new customer acquisition rate has dropped below 50% since 2004. The year 2005, which is present in the database as well, isn't present in the query result, this means that the store has not had any new customers since September of 2004. This means it makes sense to spend money acquiring new customers\n",
    "* Given the Lifetime Value (LTV) of a customer, we can calculate how much can be spent on acquiring new customers (i.e, Customer Acquisition Cost, CAC) by considering several factors, including desired profitability, marketing budget, and company growth goals.\n",
    "*  Customer Acquisition Cost includs all expenses related to sales, marketing, advertising, promotions, salaries, software, and overheads associated with attracting and converting leads into paying customers.<br> **Max Allowable CAC=LTV/target LTV to CAC ratio**\n",
    "*  A healthy LTV-to-CAC ratio is usually 3:1. If retention is strong and cash flow is stable, some businesses might tolerate a 2:1 ratio or even 1:1 in high growth phases. <br>\n",
    "With our LTV of 39039.59, if we keep our target LTV-to-CAC ratio=3:1, then CAC=13013.20; if our target LTV-to-CAC ratio=2:1, then CAC=19519.80\n"
   ]
  },
  {
   "cell_type": "markdown",
   "id": "a211df85-70d6-43ed-9696-fe359ad9dd52",
   "metadata": {},
   "source": [
    "# Conculsion\n",
    " In this work, I run SQLite queries from Python to explore a sales records database for scale model cars. \n",
    " \n",
    " The results reveal the priority products for restocking based on their potential revenue contribution. Among low stock products, '1968 Ford Mustang' has the highest projected revenue and a low stock index of 13.72, indicating strong demand relative to available stock. '1960 BSA Gold Star DBD34' is the product with the highest low stock index (67.67), highlighting a significant stock gap. However, its potential revenue is comparatively modest(<1000,000). \n",
    " \n",
    " The results hightlights VIP customers and the least-enaged customers and we should consider marketing and communication Strategies targeted for the two different group customers.\n",
    " \n",
    " Lastly, the results show that the new customer acquisition rate has dropped below 50% since 2004. Given a LTV of 39039.59, recommendations on how much can be spent on acquiring new customers are given. We can spend up to $ 13013.20 on acquiring each new customer to maintain a healty LTV-to-CAC ratio of 3:1. \n",
    " "
   ]
  },
  {
   "cell_type": "code",
   "execution_count": null,
   "id": "dc6188b5-adc5-4498-88bc-fafb83f2ebd4",
   "metadata": {},
   "outputs": [],
   "source": []
  }
 ],
 "metadata": {
  "kernelspec": {
   "display_name": "Python 3 (ipykernel)",
   "language": "python",
   "name": "python3"
  },
  "language_info": {
   "codemirror_mode": {
    "name": "ipython",
    "version": 3
   },
   "file_extension": ".py",
   "mimetype": "text/x-python",
   "name": "python",
   "nbconvert_exporter": "python",
   "pygments_lexer": "ipython3",
   "version": "3.12.7"
  }
 },
 "nbformat": 4,
 "nbformat_minor": 5
}
